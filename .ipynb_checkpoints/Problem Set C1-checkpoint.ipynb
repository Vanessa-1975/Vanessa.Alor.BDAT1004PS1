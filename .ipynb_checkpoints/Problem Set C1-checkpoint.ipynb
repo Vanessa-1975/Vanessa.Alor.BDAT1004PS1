{
 "cells": [
  {
   "cell_type": "code",
   "execution_count": null,
   "id": "a5e16810",
   "metadata": {},
   "outputs": [],
   "source": [
    "Question 1"
   ]
  },
  {
   "cell_type": "code",
   "execution_count": 1,
   "id": "6930af33",
   "metadata": {},
   "outputs": [
    {
     "data": {
      "text/html": [
       "\r\n",
       "<div>\r\n",
       "    <div id='dotnet-interactive-this-cell-22460.Microsoft.DotNet.Interactive.Http.HttpPort' style='display: none'>\r\n",
       "        The below script needs to be able to find the current output cell; this is an easy method to get it.\r\n",
       "    </div>\r\n",
       "    <script type='text/javascript'>\r\n",
       "async function probeAddresses(probingAddresses) {\r\n",
       "    function timeout(ms, promise) {\r\n",
       "        return new Promise(function (resolve, reject) {\r\n",
       "            setTimeout(function () {\r\n",
       "                reject(new Error('timeout'))\r\n",
       "            }, ms)\r\n",
       "            promise.then(resolve, reject)\r\n",
       "        })\r\n",
       "    }\r\n",
       "\r\n",
       "    if (Array.isArray(probingAddresses)) {\r\n",
       "        for (let i = 0; i < probingAddresses.length; i++) {\r\n",
       "\r\n",
       "            let rootUrl = probingAddresses[i];\r\n",
       "\r\n",
       "            if (!rootUrl.endsWith('/')) {\r\n",
       "                rootUrl = `${rootUrl}/`;\r\n",
       "            }\r\n",
       "\r\n",
       "            try {\r\n",
       "                let response = await timeout(1000, fetch(`${rootUrl}discovery`, {\r\n",
       "                    method: 'POST',\r\n",
       "                    cache: 'no-cache',\r\n",
       "                    mode: 'cors',\r\n",
       "                    timeout: 1000,\r\n",
       "                    headers: {\r\n",
       "                        'Content-Type': 'text/plain'\r\n",
       "                    },\r\n",
       "                    body: probingAddresses[i]\r\n",
       "                }));\r\n",
       "\r\n",
       "                if (response.status == 200) {\r\n",
       "                    return rootUrl;\r\n",
       "                }\r\n",
       "            }\r\n",
       "            catch (e) { }\r\n",
       "        }\r\n",
       "    }\r\n",
       "}\r\n",
       "\r\n",
       "function loadDotnetInteractiveApi() {\r\n",
       "    probeAddresses([\"http://192.168.56.1:2048/\", \"http://10.214.68.199:2048/\", \"http://127.0.0.1:2048/\"])\r\n",
       "        .then((root) => {\r\n",
       "        // use probing to find host url and api resources\r\n",
       "        // load interactive helpers and language services\r\n",
       "        let dotnetInteractiveRequire = require.config({\r\n",
       "        context: '22460.Microsoft.DotNet.Interactive.Http.HttpPort',\r\n",
       "                paths:\r\n",
       "            {\r\n",
       "                'dotnet-interactive': `${root}resources`\r\n",
       "                }\r\n",
       "        }) || require;\r\n",
       "\r\n",
       "            window.dotnetInteractiveRequire = dotnetInteractiveRequire;\r\n",
       "\r\n",
       "            window.configureRequireFromExtension = function(extensionName, extensionCacheBuster) {\r\n",
       "                let paths = {};\r\n",
       "                paths[extensionName] = `${root}extensions/${extensionName}/resources/`;\r\n",
       "                \r\n",
       "                let internalRequire = require.config({\r\n",
       "                    context: extensionCacheBuster,\r\n",
       "                    paths: paths,\r\n",
       "                    urlArgs: `cacheBuster=${extensionCacheBuster}`\r\n",
       "                    }) || require;\r\n",
       "\r\n",
       "                return internalRequire\r\n",
       "            };\r\n",
       "        \r\n",
       "            dotnetInteractiveRequire([\r\n",
       "                    'dotnet-interactive/dotnet-interactive'\r\n",
       "                ],\r\n",
       "                function (dotnet) {\r\n",
       "                    dotnet.init(window);\r\n",
       "                },\r\n",
       "                function (error) {\r\n",
       "                    console.log(error);\r\n",
       "                }\r\n",
       "            );\r\n",
       "        })\r\n",
       "        .catch(error => {console.log(error);});\r\n",
       "    }\r\n",
       "\r\n",
       "// ensure `require` is available globally\r\n",
       "if ((typeof(require) !==  typeof(Function)) || (typeof(require.config) !== typeof(Function))) {\r\n",
       "    let require_script = document.createElement('script');\r\n",
       "    require_script.setAttribute('src', 'https://cdnjs.cloudflare.com/ajax/libs/require.js/2.3.6/require.min.js');\r\n",
       "    require_script.setAttribute('type', 'text/javascript');\r\n",
       "    \r\n",
       "    \r\n",
       "    require_script.onload = function() {\r\n",
       "        loadDotnetInteractiveApi();\r\n",
       "    };\r\n",
       "\r\n",
       "    document.getElementsByTagName('head')[0].appendChild(require_script);\r\n",
       "}\r\n",
       "else {\r\n",
       "    loadDotnetInteractiveApi();\r\n",
       "}\r\n",
       "\r\n",
       "    </script>\r\n",
       "</div>"
      ]
     },
     "metadata": {},
     "output_type": "display_data"
    },
    {
     "name": "stdout",
     "output_type": "stream",
     "text": [
      "The data type of 5 is int\n",
      "The data type of 5.0 is double\n",
      "The data type of the result of 5>1 is bool\n",
      "The data type of '5' is character\n",
      "The data type of 5*2 is int\n",
      "The data type for '5' * 2 is character\n",
      "The data type for '5' + '2' is character\n",
      "The data type for 5 / 2 is int\n",
      "The data type for 5 % 2 is int\n",
      "The data type for {5, 2, 1} is an int[]\n",
      "The data type for 5 == 3 is bool\n",
      "The data type for pi is decimal\n"
     ]
    }
   ],
   "source": [
    "Console.WriteLine(\"The data type of 5 is int\");\n",
    "Console.WriteLine(\"The data type of 5.0 is double\");\n",
    "Console.WriteLine(\"The data type of the result of 5>1 is bool\");\n",
    "Console.WriteLine(\"The data type of '5' is character\");\n",
    "Console.WriteLine(\"The data type of 5*2 is int\");\n",
    "Console.WriteLine(\"The data type for '5' * 2 is character\");\n",
    "Console.WriteLine(\"The data type for '5' + '2' is character\");\n",
    "Console.WriteLine(\"The data type for 5 / 2 is int\");\n",
    "Console.WriteLine(\"The data type for 5 % 2 is int\");\n",
    "Console.WriteLine(\"The data type for {5, 2, 1} is an int[]\");\n",
    "Console.WriteLine(\"The data type for 5 == 3 is bool\");\n",
    "Console.WriteLine(\"The data type for pi is decimal\");\n",
    "\n",
    "\n"
   ]
  },
  {
   "cell_type": "code",
   "execution_count": null,
   "id": "aed37eb3",
   "metadata": {},
   "outputs": [],
   "source": [
    "Question2"
   ]
  },
  {
   "cell_type": "code",
   "execution_count": 5,
   "id": "4f913647",
   "metadata": {},
   "outputs": [
    {
     "name": "stdout",
     "output_type": "stream",
     "text": [
      "a. 34\r\n"
     ]
    }
   ],
   "source": [
    "string word = \"Supercalifragilisticexpialidocious\";\n",
    "int wordLength = word.Length;\n",
    "Console.WriteLine($\"a. {wordLength}\");"
   ]
  },
  {
   "cell_type": "code",
   "execution_count": 8,
   "id": "d5363555",
   "metadata": {},
   "outputs": [
    {
     "name": "stdout",
     "output_type": "stream",
     "text": [
      "b. ice is contained in Supercalifragilisticexpialidocious\r\n"
     ]
    }
   ],
   "source": [
    "string word = \"Supercalifragilisticexpialidocious\";\n",
    "string substring = \"ice\";\n",
    "int wordIndex = word.IndexOf(substring);\n",
    "if (wordIndex != -1)\n",
    "{\n",
    "    Console.WriteLine($\"b. {substring} is contained in {word}\");\n",
    "}\n",
    "else\n",
    "{\n",
    "    Console.WriteLine($\"b. {substring} is contained in {word}\");\n",
    "}\n",
    "\n"
   ]
  },
  {
   "cell_type": "code",
   "execution_count": 15,
   "id": "76426a2b",
   "metadata": {},
   "outputs": [
    {
     "name": "stdout",
     "output_type": "stream",
     "text": [
      "c. The longest word is Supercalifragilisticexpialidocious\r\n"
     ]
    }
   ],
   "source": [
    "string[] wordArray= {\"Supercalifragilisticexpialidocious\", \"Honorificabilitudinitatibus\", \"Bababadalgharaghtakamminarronnkonn\"};\n",
    "string longestWord= wordArray.Max(word => word);\n",
    "Console.WriteLine($\"c. The longest word is {longestWord}\");"
   ]
  },
  {
   "cell_type": "code",
   "execution_count": 19,
   "id": "94b8d20b",
   "metadata": {},
   "outputs": [
    {
     "name": "stdout",
     "output_type": "stream",
     "text": [
      "d. The word that comes first is Bartok. The last word is Buxtehude\r\n"
     ]
    }
   ],
   "source": [
    "string[] wordArray= {\"Berlioz\", \"Borodin\", \"Brian\", \"Bartok\", \"Bellini\", \"Buxtehude\", \"Bernstein\"};\n",
    "Array.Sort(wordArray);\n",
    "Console.WriteLine($\"d. The word that comes first is {wordArray[0]}. The last word is {wordArray[wordArray.Length-1]}\");"
   ]
  },
  {
   "cell_type": "code",
   "execution_count": null,
   "id": "ee86e6d5",
   "metadata": {},
   "outputs": [],
   "source": [
    "Question 3"
   ]
  },
  {
   "cell_type": "code",
   "execution_count": null,
   "id": "45a43976",
   "metadata": {},
   "outputs": [],
   "source": [
    "static double triangleArea(double a, double b, double c)\n",
    "{\n",
    "    double s = ( a + b + c ) / 2;\n",
    "    double tArea = Math.Sqrt(s * (s - a) * (s - b) * (s - c));\n",
    "    return tArea;\n",
    "}\n",
    "double a = triangleArea(2,2,2);\n",
    "Console.WriteLine(a);\n"
   ]
  },
  {
   "cell_type": "code",
   "execution_count": null,
   "id": "f88761f9",
   "metadata": {},
   "outputs": [],
   "source": [
    "Question 4"
   ]
  },
  {
   "cell_type": "code",
   "execution_count": null,
   "id": "9e6d99bc",
   "metadata": {},
   "outputs": [],
   "source": [
    "Console.Write(\"Input the number of elements to be stored in the array: \");\n",
    "string userInput = input();\n",
    "string userInput = Interactive.Jupyter.Interact<string>(\"Enter a string:\");\n",
    "if (int.TryParse(userInput, out int lengthOfArray) && lengthOfArray is > 0)\n",
    "{\n",
    "   int[] intArray = new int[lengthOfArray];\n",
    "   for (int i = 0; i < lengthOfArray; i++)\n",
    "   {\n",
    "       \n",
    "   }\n",
    "}\n",
    "else\n",
    "{\n",
    "    Console.WriteLine(\"invalid input\")\n",
    "}\n"
   ]
  },
  {
   "cell_type": "code",
   "execution_count": null,
   "id": "b43551ed",
   "metadata": {},
   "outputs": [],
   "source": []
  },
  {
   "cell_type": "code",
   "execution_count": null,
   "id": "d72df1d7",
   "metadata": {},
   "outputs": [],
   "source": []
  },
  {
   "cell_type": "code",
   "execution_count": null,
   "id": "587d27a6",
   "metadata": {},
   "outputs": [],
   "source": [
    "Question 5"
   ]
  },
  {
   "cell_type": "code",
   "execution_count": null,
   "id": "0f3a5b09",
   "metadata": {},
   "outputs": [],
   "source": []
  }
 ],
 "metadata": {
  "kernelspec": {
   "display_name": ".NET (C#)",
   "language": "C#",
   "name": ".net-csharp"
  },
  "language_info": {
   "file_extension": ".cs",
   "mimetype": "text/x-csharp",
   "name": "C#",
   "pygments_lexer": "csharp",
   "version": "12.0"
  }
 },
 "nbformat": 4,
 "nbformat_minor": 5
}
