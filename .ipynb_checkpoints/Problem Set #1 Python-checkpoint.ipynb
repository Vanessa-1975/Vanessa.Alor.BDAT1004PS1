{
 "cells": [
  {
   "cell_type": "code",
   "execution_count": null,
   "id": "362d7050",
   "metadata": {},
   "outputs": [],
   "source": [
    "Question 6"
   ]
  },
  {
   "cell_type": "code",
   "execution_count": 2,
   "id": "8ced642a",
   "metadata": {},
   "outputs": [
    {
     "name": "stdout",
     "output_type": "stream",
     "text": [
      "Pig Latin: apppyhay\n",
      "Pig Latin: Enterway\n"
     ]
    }
   ],
   "source": [
    "def pig(word):\n",
    "    vowels = \"aeiou\"\n",
    "\n",
    "    if word[0].lower() in vowels:\n",
    "        latin_word = word + \"way\"\n",
    "    else:\n",
    "        latin_word = word[1:] + word[0] + \"ay\"\n",
    "    return latin_word\n",
    "\n",
    "result1 = pig('happpy')\n",
    "print(f\"Pig Latin: {result1}\")\n",
    "result2 = pig('Enter')\n",
    "print(f\"Pig Latin: {result2}\")"
   ]
  },
  {
   "cell_type": "code",
   "execution_count": null,
   "id": "b04ef72b",
   "metadata": {},
   "outputs": [],
   "source": [
    "Question 7"
   ]
  },
  {
   "cell_type": "code",
   "execution_count": 7,
   "id": "94124e4d",
   "metadata": {},
   "outputs": [
    {
     "name": "stdout",
     "output_type": "stream",
     "text": [
      "There are 15 patients of blood type type A\n",
      "There are 1 patients of blood type type B\n",
      "There are 13 patients of blood type type AB\n",
      "There are 15 patients of blood type type O\n",
      "There are 0 patients of blood type type OO\n"
     ]
    }
   ],
   "source": [
    "def bldcount(file_name):\n",
    "        with open(file_name, \"r\") as file:\n",
    "            bld_type_count = {\"A\": 0, \"B\": 0, \"AB\": 0, \"O\": 0, \"OO\": 0}\n",
    "\n",
    "            for line in file:\n",
    "                bld_types = line.strip().split()\n",
    "                for bld_type in bld_types:\n",
    "                    bld_type = bld_type.upper()\n",
    "                    bld_type_count[bld_type] = bld_type_count.get(bld_type, 0) + 1\n",
    "            \n",
    "            for bld_type, count in bld_type_count.items():\n",
    "                print(f\"There are {count} patients of blood type type {bld_type}\")\n",
    "                \n",
    "                \n",
    "bldcount(\"bloodtype1.txt\")"
   ]
  },
  {
   "cell_type": "code",
   "execution_count": null,
   "id": "f128ba69",
   "metadata": {},
   "outputs": [],
   "source": [
    "Question 8"
   ]
  },
  {
   "cell_type": "code",
   "execution_count": 10,
   "id": "b53fe0ad",
   "metadata": {},
   "outputs": [
    {
     "name": "stdout",
     "output_type": "stream",
     "text": [
      "122.96544\n",
      "1.241401\n"
     ]
    }
   ],
   "source": [
    "def curconv(currency, amount):\n",
    "        with open(\"currencies.txt\", \"r\") as file:\n",
    "            for line in file:\n",
    "                curr, rate, _ = line.strip().split(maxsplit=2)\n",
    "                if curr == currency:\n",
    "                    usd = float(amount) * float(rate)\n",
    "                    return usd\n",
    "                \n",
    "convert_curr1 = curconv('EUR', 100)\n",
    "print(convert_curr1)\n",
    "convert_curr2 = curconv('JPY', 100)\n",
    "print(convert_curr2)\n"
   ]
  },
  {
   "cell_type": "code",
   "execution_count": null,
   "id": "2f92094f",
   "metadata": {},
   "outputs": [],
   "source": [
    "Question 9"
   ]
  },
  {
   "cell_type": "code",
   "execution_count": null,
   "id": "5706e97e",
   "metadata": {},
   "outputs": [],
   "source": [
    "Trying to add incompatible variables, as in\n",
    "adding 6 + ‘a’\n",
    "\n",
    "Exception: 'TypeError'"
   ]
  },
  {
   "cell_type": "code",
   "execution_count": null,
   "id": "0e80718d",
   "metadata": {},
   "outputs": [],
   "source": [
    "Referring to the 12th item of a list that has only 10\n",
    "items\n",
    "\n",
    "Exception: 'IndexError'"
   ]
  },
  {
   "cell_type": "code",
   "execution_count": null,
   "id": "b81a6664",
   "metadata": {},
   "outputs": [],
   "source": [
    "Using a value that is out of range for a function’s\n",
    "input\n",
    "\n",
    "Exception: 'ValueError'"
   ]
  },
  {
   "cell_type": "code",
   "execution_count": null,
   "id": "4e517958",
   "metadata": {},
   "outputs": [],
   "source": [
    "Using an undeclared variable, such as print(x)\n",
    "when x has not been defined \n",
    "\n",
    "Exception: 'NameError'"
   ]
  },
  {
   "cell_type": "code",
   "execution_count": null,
   "id": "f757d6dd",
   "metadata": {},
   "outputs": [],
   "source": [
    "Trying to open a file that does not exist, such as\n",
    "mistyping the file name or looking in the wrong\n",
    "directory. \n",
    "\n",
    "Exception: 'FileNotFoundError'"
   ]
  },
  {
   "cell_type": "code",
   "execution_count": null,
   "id": "22c8fc81",
   "metadata": {},
   "outputs": [],
   "source": [
    "Question 10"
   ]
  },
  {
   "cell_type": "code",
   "execution_count": 32,
   "id": "753d961e",
   "metadata": {},
   "outputs": [
    {
     "name": "stdout",
     "output_type": "stream",
     "text": [
      "[1, 1, 1, 3, 5, 1, 1, 2, 1, 0, 1, 0, 1, 2, 4, 0, 1, 2, 0, 3, 1, 0, 1, 1, 0, 0]\n",
      "[1, 0, 0, 0, 1, 0, 0, 0, 0, 0, 0, 1, 0, 0, 0, 2, 0, 0, 0, 0, 0, 0, 0, 0, 0, 0]\n"
     ]
    }
   ],
   "source": [
    "def frequencies(text):\n",
    "    letters = 'abcdefghijklmnopqrstuvwxyz'\n",
    "    frequency_list = [0] * 26\n",
    "    for character in text:\n",
    "        character_lower_case = character.lower()\n",
    "        if character_lower_case in letters:\n",
    "            i =ord(character_lower_case) - ord('a')\n",
    "            frequency_list[i] += 1\n",
    "    return frequency_list\n",
    "output1 = frequencies('The quick red fox got bored and went home.')\n",
    "print(output1)\n",
    "output2 = frequencies('apple')\n",
    "print(output2)"
   ]
  },
  {
   "cell_type": "code",
   "execution_count": null,
   "id": "ea40dca6",
   "metadata": {},
   "outputs": [],
   "source": []
  }
 ],
 "metadata": {
  "kernelspec": {
   "display_name": "Python 3 (ipykernel)",
   "language": "python",
   "name": "python3"
  },
  "language_info": {
   "codemirror_mode": {
    "name": "ipython",
    "version": 3
   },
   "file_extension": ".py",
   "mimetype": "text/x-python",
   "name": "python",
   "nbconvert_exporter": "python",
   "pygments_lexer": "ipython3",
   "version": "3.11.5"
  }
 },
 "nbformat": 4,
 "nbformat_minor": 5
}
