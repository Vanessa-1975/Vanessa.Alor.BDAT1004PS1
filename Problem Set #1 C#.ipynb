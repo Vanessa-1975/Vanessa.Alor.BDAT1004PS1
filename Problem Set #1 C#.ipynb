{
 "cells": [
  {
   "cell_type": "code",
   "execution_count": null,
   "id": "e7c49afc",
   "metadata": {},
   "outputs": [],
   "source": [
    "Question 1"
   ]
  },
  {
   "cell_type": "code",
   "execution_count": 11,
   "id": "f18b1a4d",
   "metadata": {},
   "outputs": [
    {
     "name": "stdout",
     "output_type": "stream",
     "text": [
      "The data type of 5 is int\n",
      "The data type of 5.0 is double\n",
      "The data type of the result of 5>1 is bool\n",
      "The data type of '5' is character\n",
      "The data type of 5*2 is int\n",
      "The data type for '5' * 2 is character\n",
      "The data type for '5' + '2' is character\n",
      "The data type for 5 / 2 is int\n",
      "The data type for 5 % 2 is int\n",
      "The data type for {5, 2, 1} is an int[]\n",
      "The data type for 5 == 3 is bool\n",
      "The data type for pi is decimal\n"
     ]
    }
   ],
   "source": [
    "Console.WriteLine(\"The data type of 5 is int\");\n",
    "Console.WriteLine(\"The data type of 5.0 is double\");\n",
    "Console.WriteLine(\"The data type of the result of 5>1 is bool\");\n",
    "Console.WriteLine(\"The data type of '5' is character\");\n",
    "Console.WriteLine(\"The data type of 5*2 is int\");\n",
    "Console.WriteLine(\"The data type for '5' * 2 is character\");\n",
    "Console.WriteLine(\"The data type for '5' + '2' is character\");\n",
    "Console.WriteLine(\"The data type for 5 / 2 is int\");\n",
    "Console.WriteLine(\"The data type for 5 % 2 is int\");\n",
    "Console.WriteLine(\"The data type for {5, 2, 1} is an int[]\");\n",
    "Console.WriteLine(\"The data type for 5 == 3 is bool\");\n",
    "Console.WriteLine(\"The data type for pi is decimal\");"
   ]
  },
  {
   "cell_type": "code",
   "execution_count": null,
   "id": "cbe4ce0f",
   "metadata": {},
   "outputs": [],
   "source": [
    "Question 2"
   ]
  },
  {
   "cell_type": "code",
   "execution_count": 7,
   "id": "6b2a9342",
   "metadata": {},
   "outputs": [
    {
     "name": "stdout",
     "output_type": "stream",
     "text": [
      "a. 34\r\n"
     ]
    }
   ],
   "source": [
    "string word = \"Supercalifragilisticexpialidocious\";\n",
    "int wordLength = word.Length;\n",
    "Console.WriteLine($\"a. {wordLength}\");"
   ]
  },
  {
   "cell_type": "code",
   "execution_count": 8,
   "id": "42410427",
   "metadata": {},
   "outputs": [
    {
     "name": "stdout",
     "output_type": "stream",
     "text": [
      "b. ice is contained in Supercalifragilisticexpialidocious\r\n"
     ]
    }
   ],
   "source": [
    "string word = \"Supercalifragilisticexpialidocious\";\n",
    "string substring = \"ice\";\n",
    "int wordIndex = word.IndexOf(substring);\n",
    "if (wordIndex != -1)\n",
    "{\n",
    "    Console.WriteLine($\"b. {substring} is contained in {word}\");\n",
    "}\n",
    "else\n",
    "{\n",
    "    Console.WriteLine($\"b. {substring} is contained in {word}\");\n",
    "}"
   ]
  },
  {
   "cell_type": "code",
   "execution_count": 9,
   "id": "88a79e55",
   "metadata": {},
   "outputs": [
    {
     "name": "stdout",
     "output_type": "stream",
     "text": [
      "c. The longest word is Supercalifragilisticexpialidocious\r\n"
     ]
    }
   ],
   "source": [
    "string[] wordArray= {\"Supercalifragilisticexpialidocious\", \"Honorificabilitudinitatibus\", \"Bababadalgharaghtakamminarronnkonn\"};\n",
    "string longestWord= wordArray.Max(word => word);\n",
    "Console.WriteLine($\"c. The longest word is {longestWord}\");"
   ]
  },
  {
   "cell_type": "code",
   "execution_count": 10,
   "id": "83d78bbe",
   "metadata": {},
   "outputs": [
    {
     "name": "stdout",
     "output_type": "stream",
     "text": [
      "d. The word that comes first is Bartok. The last word is Buxtehude\r\n"
     ]
    }
   ],
   "source": [
    "string[] wordArray= {\"Berlioz\", \"Borodin\", \"Brian\", \"Bartok\", \"Bellini\", \"Buxtehude\", \"Bernstein\"};\n",
    "Array.Sort(wordArray);\n",
    "Console.WriteLine($\"d. The word that comes first is {wordArray[0]}. The last word is {wordArray[wordArray.Length-1]}\");"
   ]
  },
  {
   "cell_type": "code",
   "execution_count": null,
   "id": "db054a70",
   "metadata": {},
   "outputs": [],
   "source": [
    "Question 3"
   ]
  },
  {
   "cell_type": "code",
   "execution_count": 5,
   "id": "013577f2",
   "metadata": {},
   "outputs": [
    {
     "name": "stdout",
     "output_type": "stream",
     "text": [
      "1.7320508075688772\r\n"
     ]
    }
   ],
   "source": [
    "static double triangleArea(double a, double b, double c)\n",
    "{\n",
    "    double s = ( a + b + c ) / 2;\n",
    "    double tArea = Math.Sqrt(s * (s - a) * (s - b) * (s - c));\n",
    "    return tArea;\n",
    "}\n",
    "double a = triangleArea(2,2,2);\n",
    "Console.WriteLine(a);"
   ]
  },
  {
   "cell_type": "code",
   "execution_count": null,
   "id": "19da2955",
   "metadata": {},
   "outputs": [],
   "source": [
    "Question 4"
   ]
  },
  {
   "cell_type": "code",
   "execution_count": 4,
   "id": "1c793526",
   "metadata": {},
   "outputs": [
    {
     "name": "stdout",
     "output_type": "stream",
     "text": [
      "Input the number of elements to be stored in the array: 5\n",
      "Input 5 elements in the array\n",
      "25\n",
      "element - 0 : 25\n",
      "47\n",
      "element - 1 : 47\n",
      "42\n",
      "element - 2 : 42\n",
      "56\n",
      "element - 3 : 56\n",
      "32\n",
      "element - 4 : 32\n",
      "The Even elements are:\n",
      " \n",
      "42 56 32 \n",
      "\n",
      "The Odd elements are:\n",
      "\n",
      "25 47 \n"
     ]
    }
   ],
   "source": [
    "static void PrintArray(int[] array)\n",
    "    {\n",
    "        foreach (var element in array)\n",
    "        {\n",
    "            Console.Write(element + \" \");\n",
    "        }\n",
    "        Console.WriteLine();\n",
    "    }\n",
    "\n",
    "Console.Write(\"Input the number of elements to be stored in the array: \");\n",
    "string userInput = input();\n",
    "if (int.TryParse(userInput, out int lengthOfArray) && lengthOfArray is > 0)\n",
    "{\n",
    "   int[] intArray = new int[lengthOfArray];\n",
    "    List<int> intListOdd = new List<int>();\n",
    "    List<int> intListEven = new List<int>();\n",
    "    Console.WriteLine($\"Input {lengthOfArray} elements in the array\");\n",
    "   for (int i = 0; i < lengthOfArray; i++)\n",
    "   {\n",
    "       string userInput2 = input();\n",
    "       if (int.TryParse(userInput2, out int inputValue))\n",
    "       {\n",
    "         intArray[i] = inputValue;\n",
    "         Console.WriteLine($\"element - {i} : {inputValue}\");\n",
    "           if (inputValue % 2 == 0) {\n",
    "            intListEven.Add(inputValue);\n",
    "            }\n",
    "            else\n",
    "            {\n",
    "            intListOdd.Add(inputValue);\n",
    "            }\n",
    "       }\n",
    "       else\n",
    "        {\n",
    "            Console.WriteLine(\"invalid input\");\n",
    "           i--;\n",
    "        }\n",
    "\n",
    "   }\n",
    "    int[] intArrayOdd = intListOdd.ToArray();\n",
    "        int[] intArrayEven = intListEven.ToArray();\n",
    "\n",
    "        Console.WriteLine(\"The Even elements are:\\n \");\n",
    "        PrintArray(intArrayEven);\n",
    "\n",
    "        Console.WriteLine(\"\\nThe Odd elements are:\\n\");\n",
    "        PrintArray(intArrayOdd);\n",
    "}\n",
    "else\n",
    "{\n",
    "    Console.WriteLine(\"invalid input\");\n",
    "}\n"
   ]
  },
  {
   "cell_type": "code",
   "execution_count": null,
   "id": "3f8190f3",
   "metadata": {},
   "outputs": [],
   "source": [
    "Question 5"
   ]
  },
  {
   "cell_type": "code",
   "execution_count": 18,
   "id": "a7cb794f",
   "metadata": {},
   "outputs": [
    {
     "name": "stdout",
     "output_type": "stream",
     "text": [
      "True\n",
      "False\n"
     ]
    }
   ],
   "source": [
    "static bool inside(int x, int y, int x1, int y1, int x2, int y2)\n",
    "    {\n",
    "        return (x >= x1 && x <= x2 && y >= y1 && y <= y2);\n",
    "    }\n",
    "    \n",
    "bool result1 = inside(1,1,0,0,2,3);\n",
    "Console.WriteLine(result1);\n",
    "bool result2 = inside(-1,-1,0,0,2,3);\n",
    "Console.WriteLine(result2);"
   ]
  },
  {
   "cell_type": "code",
   "execution_count": null,
   "id": "fb188d1a",
   "metadata": {},
   "outputs": [],
   "source": []
  }
 ],
 "metadata": {
  "kernelspec": {
   "display_name": ".NET (C#)",
   "language": "C#",
   "name": ".net-csharp"
  },
  "language_info": {
   "file_extension": ".cs",
   "mimetype": "text/x-csharp",
   "name": "C#",
   "pygments_lexer": "csharp",
   "version": "12.0"
  }
 },
 "nbformat": 4,
 "nbformat_minor": 5
}
