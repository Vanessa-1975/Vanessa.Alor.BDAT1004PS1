{
 "cells": [
  {
   "cell_type": "code",
   "execution_count": 10,
   "id": "32d18a35",
   "metadata": {},
   "outputs": [
    {
     "name": "stdout",
     "output_type": "stream",
     "text": [
      "False\r\n"
     ]
    }
   ],
   "source": [
    "bool a = 5 > 12;\n",
    "Console.WriteLine(a);"
   ]
  },
  {
   "cell_type": "code",
   "execution_count": 11,
   "id": "d82f3593",
   "metadata": {},
   "outputs": [],
   "source": [
    "\n",
    "float myFloat = 3.14f;\n",
    "double myDouble = 3.14;\n",
    "decimal myDecimal = 3.1428697852135456987241m;\n"
   ]
  },
  {
   "cell_type": "code",
   "execution_count": 21,
   "id": "f16fa0cd",
   "metadata": {},
   "outputs": [
    {
     "name": "stdout",
     "output_type": "stream",
     "text": [
      "4\r\n"
     ]
    }
   ],
   "source": [
    "char a = (char)('4' * 1);\n",
    "Console.WriteLine (a);"
   ]
  },
  {
   "cell_type": "code",
   "execution_count": 30,
   "id": "365bf517",
   "metadata": {},
   "outputs": [
    {
     "name": "stdout",
     "output_type": "stream",
     "text": [
      "2.5\r\n"
     ]
    }
   ],
   "source": [
    "float a = 5;\n",
    "float b = 2;\n",
    "float result = (float)(a/b);\n",
    "Console.WriteLine(result);"
   ]
  },
  {
   "cell_type": "code",
   "execution_count": null,
   "id": "6fc57fda",
   "metadata": {},
   "outputs": [],
   "source": []
  }
 ],
 "metadata": {
  "kernelspec": {
   "display_name": ".NET (C#)",
   "language": "C#",
   "name": ".net-csharp"
  },
  "language_info": {
   "file_extension": ".cs",
   "mimetype": "text/x-csharp",
   "name": "C#",
   "pygments_lexer": "csharp",
   "version": "12.0"
  }
 },
 "nbformat": 4,
 "nbformat_minor": 5
}
